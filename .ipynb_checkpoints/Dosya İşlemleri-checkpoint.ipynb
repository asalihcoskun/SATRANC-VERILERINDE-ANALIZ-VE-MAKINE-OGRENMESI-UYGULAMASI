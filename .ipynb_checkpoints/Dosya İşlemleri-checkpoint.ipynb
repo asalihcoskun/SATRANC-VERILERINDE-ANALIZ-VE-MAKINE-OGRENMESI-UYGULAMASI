{
 "cells": [
  {
   "cell_type": "markdown",
   "id": "38abe217",
   "metadata": {},
   "source": [
    "# PGNİ PARÇALARA AYIRMA"
   ]
  },
  {
   "cell_type": "code",
   "execution_count": null,
   "id": "accda756-65bd-4180-b567-2b9480f4e0f9",
   "metadata": {},
   "outputs": [],
   "source": [
    "import chess.pgn\n",
    "import polars as pl"
   ]
  },
  {
   "cell_type": "code",
   "execution_count": null,
   "id": "69186507",
   "metadata": {},
   "outputs": [],
   "source": [
    "def split_pgn_file(input_file, output_prefix, games_per_file):\n",
    "    with open(input_file, \"r\") as pgn_file:\n",
    "        games = []\n",
    "        while True:\n",
    "            game = chess.pgn.read_game(pgn_file)\n",
    "            if game is None:\n",
    "                break\n",
    "            games.append(game)\n",
    "\n",
    "    chunks = [games[i:i + games_per_file] for i in range(0, len(games), games_per_file)]\n",
    "\n",
    "    for i, chunk in enumerate(chunks):\n",
    "        with open(f\"{output_prefix}_{i + 1}.pgn\", \"w\") as out_file:\n",
    "            for game in chunk:\n",
    "                print(game, file=out_file, end=\"\\n\\n\")\n",
    "\n",
    "    print(f\"{len(games)} oyun {len(chunks)} parçaya bölündü.\")"
   ]
  },
  {
   "cell_type": "code",
   "execution_count": null,
   "id": "5ab5fdf0",
   "metadata": {},
   "outputs": [],
   "source": [
    "input_file = \"Caruana.pgn\"\n",
    "output_prefix = \"caruana\"\n",
    "games_per_file = 1530  \n",
    "\n",
    "split_pgn_file(input_file, output_prefix, games_per_file)"
   ]
  },
  {
   "cell_type": "markdown",
   "id": "41855f0f-e732-4293-8a3b-dc5a76a4fd70",
   "metadata": {},
   "source": [
    "# PARQUET DOSYALARINI BİRLEŞTİRME"
   ]
  },
  {
   "cell_type": "code",
   "execution_count": 1,
   "id": "168cde7e",
   "metadata": {},
   "outputs": [],
   "source": [
    "parquet_files = ['caruana_1.parquet', 'caruana_2.parquet','caruana_3.parquet']\n",
    "\n",
    "# Parquet dosyalarını okuma ve birleştirme\n",
    "dfs = [pl.read_parquet(file) for file in parquet_files]\n",
    "combined_df = pl.concat(dfs)\n",
    "\n",
    "combined_df.write_parquet('Caruana.parquet')"
   ]
  },
  {
   "cell_type": "code",
   "execution_count": 3,
   "id": "c9c5e9d1",
   "metadata": {
    "scrolled": true
   },
   "outputs": [
    {
     "data": {
      "text/html": [
       "<div><style>\n",
       ".dataframe > thead > tr,\n",
       ".dataframe > tbody > tr {\n",
       "  text-align: right;\n",
       "  white-space: pre-wrap;\n",
       "}\n",
       "</style>\n",
       "<small>shape: (4_588, 16)</small><table border=\"1\" class=\"dataframe\"><thead><tr><th>Event</th><th>Site</th><th>Date</th><th>White</th><th>Black</th><th>Result</th><th>ECO</th><th>White Elo</th><th>Black Elo</th><th>Moves</th><th>Mate</th><th>Phase</th><th>Best Move Rate</th><th>Game Class</th><th>Evaluations</th><th>WDL</th></tr><tr><td>str</td><td>str</td><td>str</td><td>str</td><td>str</td><td>str</td><td>str</td><td>str</td><td>str</td><td>str</td><td>str</td><td>str</td><td>f64</td><td>str</td><td>list[f64]</td><td>list[f64]</td></tr></thead><tbody><tr><td>&quot;US Amateur Team East&quot;</td><td>&quot;Parsipanny USA&quot;</td><td>&quot;2002.02.16&quot;</td><td>&quot;Milovanovic,Dragan&quot;</td><td>&quot;Caruana,F&quot;</td><td>&quot;1/2-1/2&quot;</td><td>&quot;A48&quot;</td><td>&quot;&quot;</td><td>&quot;2032&quot;</td><td>&quot;d4 Nf6 Nf3 g6 e3 Bg7 Bd3 O-O O…</td><td>&quot;No forced mate detected&quot;</td><td>&quot;Endgame&quot;</td><td>0.528571</td><td>&quot;Sudden&quot;</td><td>[0.35, 0.41, … 0.0]</td><td>[0.5155, 0.522, … 0.5]</td></tr><tr><td>&quot;New York State-ch&quot;</td><td>&quot;Kerhonkson USA&quot;</td><td>&quot;2002.08.31&quot;</td><td>&quot;Simon,Jerry C&quot;</td><td>&quot;Caruana,F&quot;</td><td>&quot;1/2-1/2&quot;</td><td>&quot;D90&quot;</td><td>&quot;&quot;</td><td>&quot;2040&quot;</td><td>&quot;d4 Nf6 c4 g6 Nc3 d5 Nf3 Bg7 cx…</td><td>&quot;No forced mate detected&quot;</td><td>&quot;Middlegame&quot;</td><td>0.479167</td><td>&quot;Sudden&quot;</td><td>[0.32, 0.34, … 0.0]</td><td>[0.513, 0.5145, … 0.5]</td></tr><tr><td>&quot;New York State-ch&quot;</td><td>&quot;Kerhonkson USA&quot;</td><td>&quot;2002.09.01&quot;</td><td>&quot;Dolgitser,K&quot;</td><td>&quot;Caruana,F&quot;</td><td>&quot;1-0&quot;</td><td>&quot;D85&quot;</td><td>&quot;2262&quot;</td><td>&quot;2040&quot;</td><td>&quot;Nf3 Nf6 c4 g6 d4 Bg7 Nc3 d5 cx…</td><td>&quot;No forced mate detected&quot;</td><td>&quot;Endgame&quot;</td><td>0.484536</td><td>&quot;Sudden&quot;</td><td>[0.29, 0.35, … 8.52]</td><td>[0.511, 0.5155, … 1.0]</td></tr><tr><td>&quot;New York State-ch&quot;</td><td>&quot;Kerhonkson USA&quot;</td><td>&quot;2002.09.01&quot;</td><td>&quot;Caruana,F&quot;</td><td>&quot;Agaian,Sarkis&quot;</td><td>&quot;1-0&quot;</td><td>&quot;B90&quot;</td><td>&quot;2040&quot;</td><td>&quot;&quot;</td><td>&quot;e4 c5 Nf3 d6 d4 cxd4 Nxd4 Nf6 …</td><td>null</td><td>&quot;Middlegame&quot;</td><td>0.516484</td><td>&quot;Sudden&quot;</td><td>[0.44, 0.38, … null]</td><td>[0.5255, 0.518, … 1.0]</td></tr><tr><td>&quot;New York State-ch&quot;</td><td>&quot;Kerhonkson USA&quot;</td><td>&quot;2002.09.02&quot;</td><td>&quot;Caruana,F&quot;</td><td>&quot;Kwartler,L&quot;</td><td>&quot;0-1&quot;</td><td>&quot;B11&quot;</td><td>&quot;2040&quot;</td><td>&quot;2253&quot;</td><td>&quot;e4 c6 Nc3 d5 Nf3 Bg4 exd5 cxd5…</td><td>&quot;No forced mate detected&quot;</td><td>&quot;Endgame&quot;</td><td>0.478261</td><td>&quot;Sudden&quot;</td><td>[0.3, 0.68, … -6.39]</td><td>[0.5115, 0.5845, … 0.0]</td></tr><tr><td>&hellip;</td><td>&hellip;</td><td>&hellip;</td><td>&hellip;</td><td>&hellip;</td><td>&hellip;</td><td>&hellip;</td><td>&hellip;</td><td>&hellip;</td><td>&hellip;</td><td>&hellip;</td><td>&hellip;</td><td>&hellip;</td><td>&hellip;</td><td>&hellip;</td><td>&hellip;</td></tr><tr><td>&quot;World Blitz 2023&quot;</td><td>&quot;Samarkand UZB&quot;</td><td>&quot;2023.12.30&quot;</td><td>&quot;Caruana,F&quot;</td><td>&quot;Dubov,Daniil&quot;</td><td>&quot;0-1&quot;</td><td>&quot;C55&quot;</td><td>&quot;2794&quot;</td><td>&quot;2710&quot;</td><td>&quot;e4 e5 Nf3 Nc6 Bc4 Nf6 d3 Be7 O…</td><td>&quot;No forced mate detected&quot;</td><td>&quot;Endgame&quot;</td><td>0.609756</td><td>&quot;Sudden&quot;</td><td>[0.37, 0.57, … -1.42]</td><td>[0.5175, 0.55, … 0.038]</td></tr><tr><td>&quot;World Blitz 2023&quot;</td><td>&quot;Samarkand UZB&quot;</td><td>&quot;2023.12.30&quot;</td><td>&quot;Caruana,F&quot;</td><td>&quot;Praggnanandhaa,R&quot;</td><td>&quot;1-0&quot;</td><td>&quot;A22&quot;</td><td>&quot;2794&quot;</td><td>&quot;2740&quot;</td><td>&quot;c4 Nf6 Nc3 e5 g3 Bb4 e4 Nc6 Ng…</td><td>&quot;No forced mate detected&quot;</td><td>&quot;Endgame&quot;</td><td>0.461538</td><td>&quot;Sudden&quot;</td><td>[0.18, 0.34, … 4.94]</td><td>[0.5055, 0.5145, … 1.0]</td></tr><tr><td>&quot;World Blitz 2023&quot;</td><td>&quot;Samarkand UZB&quot;</td><td>&quot;2023.12.30&quot;</td><td>&quot;Vachier Lagrave,M&quot;</td><td>&quot;Caruana,F&quot;</td><td>&quot;1-0&quot;</td><td>&quot;C78&quot;</td><td>&quot;2731&quot;</td><td>&quot;2794&quot;</td><td>&quot;e4 e5 Nf3 Nc6 Bb5 a6 Ba4 Nf6 O…</td><td>&quot;6&quot;</td><td>&quot;Middlegame&quot;</td><td>0.558442</td><td>&quot;Smooth&quot;</td><td>[0.33, 0.46, … null]</td><td>[0.514, 0.5285, … 1.0]</td></tr><tr><td>&quot;World Blitz 2023&quot;</td><td>&quot;Samarkand UZB&quot;</td><td>&quot;2023.12.30&quot;</td><td>&quot;Caruana,F&quot;</td><td>&quot;Svidler,P&quot;</td><td>&quot;1-0&quot;</td><td>&quot;B90&quot;</td><td>&quot;2794&quot;</td><td>&quot;2689&quot;</td><td>&quot;e4 c5 Nf3 d6 d4 cxd4 Nxd4 Nf6 …</td><td>&quot;No forced mate detected&quot;</td><td>&quot;Endgame&quot;</td><td>0.47619</td><td>&quot;Sudden&quot;</td><td>[0.24, 0.25, … 7.38]</td><td>[0.5085, 0.509, … 1.0]</td></tr><tr><td>&quot;World Blitz 2023&quot;</td><td>&quot;Samarkand UZB&quot;</td><td>&quot;2023.12.30&quot;</td><td>&quot;Artemiev,V&quot;</td><td>&quot;Caruana,F&quot;</td><td>&quot;1/2-1/2&quot;</td><td>&quot;A49&quot;</td><td>&quot;2711&quot;</td><td>&quot;2794&quot;</td><td>&quot;d4 Nf6 Nf3 g6 g3 Bg7 Bg2 d6 O-…</td><td>&quot;No forced mate detected&quot;</td><td>&quot;Endgame&quot;</td><td>0.344262</td><td>&quot;Sudden&quot;</td><td>[0.37, 0.47, … -0.47]</td><td>[0.5175, 0.53, … 0.47]</td></tr></tbody></table></div>"
      ],
      "text/plain": [
       "shape: (4_588, 16)\n",
       "┌──────────────┬──────────────┬────────────┬──────────────┬───┬──────────────┬────────────┬──────────────┬─────────────┐\n",
       "│ Event        ┆ Site         ┆ Date       ┆ White        ┆ … ┆ Best Move    ┆ Game Class ┆ Evaluations  ┆ WDL         │\n",
       "│ ---          ┆ ---          ┆ ---        ┆ ---          ┆   ┆ Rate         ┆ ---        ┆ ---          ┆ ---         │\n",
       "│ str          ┆ str          ┆ str        ┆ str          ┆   ┆ ---          ┆ str        ┆ list[f64]    ┆ list[f64]   │\n",
       "│              ┆              ┆            ┆              ┆   ┆ f64          ┆            ┆              ┆             │\n",
       "╞══════════════╪══════════════╪════════════╪══════════════╪═══╪══════════════╪════════════╪══════════════╪═════════════╡\n",
       "│ US Amateur   ┆ Parsipanny   ┆ 2002.02.16 ┆ Milovanovic, ┆ … ┆ 0.528571     ┆ Sudden     ┆ [0.35, 0.41, ┆ [0.5155,    │\n",
       "│ Team East    ┆ USA          ┆            ┆ Dragan       ┆   ┆              ┆            ┆ … 0.0]       ┆ 0.522, …    │\n",
       "│              ┆              ┆            ┆              ┆   ┆              ┆            ┆              ┆ 0.5]        │\n",
       "│ New York     ┆ Kerhonkson   ┆ 2002.08.31 ┆ Simon,Jerry  ┆ … ┆ 0.479167     ┆ Sudden     ┆ [0.32, 0.34, ┆ [0.513,     │\n",
       "│ State-ch     ┆ USA          ┆            ┆ C            ┆   ┆              ┆            ┆ … 0.0]       ┆ 0.5145, …   │\n",
       "│              ┆              ┆            ┆              ┆   ┆              ┆            ┆              ┆ 0.5]        │\n",
       "│ New York     ┆ Kerhonkson   ┆ 2002.09.01 ┆ Dolgitser,K  ┆ … ┆ 0.484536     ┆ Sudden     ┆ [0.29, 0.35, ┆ [0.511,     │\n",
       "│ State-ch     ┆ USA          ┆            ┆              ┆   ┆              ┆            ┆ … 8.52]      ┆ 0.5155, …   │\n",
       "│              ┆              ┆            ┆              ┆   ┆              ┆            ┆              ┆ 1.0]        │\n",
       "│ New York     ┆ Kerhonkson   ┆ 2002.09.01 ┆ Caruana,F    ┆ … ┆ 0.516484     ┆ Sudden     ┆ [0.44, 0.38, ┆ [0.5255,    │\n",
       "│ State-ch     ┆ USA          ┆            ┆              ┆   ┆              ┆            ┆ … null]      ┆ 0.518, …    │\n",
       "│              ┆              ┆            ┆              ┆   ┆              ┆            ┆              ┆ 1.0]        │\n",
       "│ New York     ┆ Kerhonkson   ┆ 2002.09.02 ┆ Caruana,F    ┆ … ┆ 0.478261     ┆ Sudden     ┆ [0.3, 0.68,  ┆ [0.5115,    │\n",
       "│ State-ch     ┆ USA          ┆            ┆              ┆   ┆              ┆            ┆ … -6.39]     ┆ 0.5845, …   │\n",
       "│              ┆              ┆            ┆              ┆   ┆              ┆            ┆              ┆ 0.0]        │\n",
       "│ …            ┆ …            ┆ …          ┆ …            ┆ … ┆ …            ┆ …          ┆ …            ┆ …           │\n",
       "│ World Blitz  ┆ Samarkand    ┆ 2023.12.30 ┆ Caruana,F    ┆ … ┆ 0.609756     ┆ Sudden     ┆ [0.37, 0.57, ┆ [0.5175,    │\n",
       "│ 2023         ┆ UZB          ┆            ┆              ┆   ┆              ┆            ┆ … -1.42]     ┆ 0.55, …     │\n",
       "│              ┆              ┆            ┆              ┆   ┆              ┆            ┆              ┆ 0.038]      │\n",
       "│ World Blitz  ┆ Samarkand    ┆ 2023.12.30 ┆ Caruana,F    ┆ … ┆ 0.461538     ┆ Sudden     ┆ [0.18, 0.34, ┆ [0.5055,    │\n",
       "│ 2023         ┆ UZB          ┆            ┆              ┆   ┆              ┆            ┆ … 4.94]      ┆ 0.5145, …   │\n",
       "│              ┆              ┆            ┆              ┆   ┆              ┆            ┆              ┆ 1.0]        │\n",
       "│ World Blitz  ┆ Samarkand    ┆ 2023.12.30 ┆ Vachier      ┆ … ┆ 0.558442     ┆ Smooth     ┆ [0.33, 0.46, ┆ [0.514,     │\n",
       "│ 2023         ┆ UZB          ┆            ┆ Lagrave,M    ┆   ┆              ┆            ┆ … null]      ┆ 0.5285, …   │\n",
       "│              ┆              ┆            ┆              ┆   ┆              ┆            ┆              ┆ 1.0]        │\n",
       "│ World Blitz  ┆ Samarkand    ┆ 2023.12.30 ┆ Caruana,F    ┆ … ┆ 0.47619      ┆ Sudden     ┆ [0.24, 0.25, ┆ [0.5085,    │\n",
       "│ 2023         ┆ UZB          ┆            ┆              ┆   ┆              ┆            ┆ … 7.38]      ┆ 0.509, …    │\n",
       "│              ┆              ┆            ┆              ┆   ┆              ┆            ┆              ┆ 1.0]        │\n",
       "│ World Blitz  ┆ Samarkand    ┆ 2023.12.30 ┆ Artemiev,V   ┆ … ┆ 0.344262     ┆ Sudden     ┆ [0.37, 0.47, ┆ [0.5175,    │\n",
       "│ 2023         ┆ UZB          ┆            ┆              ┆   ┆              ┆            ┆ … -0.47]     ┆ 0.53, …     │\n",
       "│              ┆              ┆            ┆              ┆   ┆              ┆            ┆              ┆ 0.47]       │\n",
       "└──────────────┴──────────────┴────────────┴──────────────┴───┴──────────────┴────────────┴──────────────┴─────────────┘"
      ]
     },
     "execution_count": 3,
     "metadata": {},
     "output_type": "execute_result"
    }
   ],
   "source": [
    "caruana=pl.read_parquet(\"Caruana.parquet\")\n",
    "caruana"
   ]
  },
  {
   "cell_type": "code",
   "execution_count": 4,
   "id": "00c36783",
   "metadata": {},
   "outputs": [],
   "source": [
    "parquet_files = ['nakamura_1.parquet', 'nakamura_2.parquet','nakamura_3.parquet','nakamura_4.parquet', 'nakamura_5.parquet','nakamura_6.parquet']\n",
    "\n",
    "# Parquet dosyalarını okuma ve birleştirme\n",
    "dfs = [pl.read_parquet(file) for file in parquet_files]\n",
    "combined_df = pl.concat(dfs)\n",
    "\n",
    "combined_df.write_parquet('Nakamura.parquet')"
   ]
  },
  {
   "cell_type": "code",
   "execution_count": 6,
   "id": "82e4bc83",
   "metadata": {
    "scrolled": true
   },
   "outputs": [
    {
     "data": {
      "text/html": [
       "<div><style>\n",
       ".dataframe > thead > tr,\n",
       ".dataframe > tbody > tr {\n",
       "  text-align: right;\n",
       "  white-space: pre-wrap;\n",
       "}\n",
       "</style>\n",
       "<small>shape: (7_307, 16)</small><table border=\"1\" class=\"dataframe\"><thead><tr><th>Event</th><th>Site</th><th>Date</th><th>White</th><th>Black</th><th>Result</th><th>ECO</th><th>White Elo</th><th>Black Elo</th><th>Moves</th><th>Mate</th><th>Phase</th><th>Best Move Rate</th><th>Game Class</th><th>Evaluations</th><th>WDL</th></tr><tr><td>str</td><td>str</td><td>str</td><td>str</td><td>str</td><td>str</td><td>str</td><td>str</td><td>str</td><td>str</td><td>str</td><td>str</td><td>f64</td><td>str</td><td>list[f64]</td><td>list[f64]</td></tr></thead><tbody><tr><td>&quot;Wch U10&quot;</td><td>&quot;Cannes&quot;</td><td>&quot;1997.??.??&quot;</td><td>&quot;Bellaiche, Antony&quot;</td><td>&quot;Nakamura, Hikaru&quot;</td><td>&quot;1-0&quot;</td><td>&quot;E97&quot;</td><td>&quot;&quot;</td><td>&quot;&quot;</td><td>&quot;d4 Nf6 c4 g6 Nc3 Bg7 e4 d6 Nf3…</td><td>&quot;7&quot;</td><td>&quot;Endgame&quot;</td><td>0.466667</td><td>&quot;Balanced&quot;</td><td>[0.33, 0.36, … null]</td><td>[0.514, 0.5165, … 1.0]</td></tr><tr><td>&quot;Wch U10&quot;</td><td>&quot;Cannes&quot;</td><td>&quot;1997.??.??&quot;</td><td>&quot;Nakamura, Hikaru&quot;</td><td>&quot;El Mikati, Mohamad&quot;</td><td>&quot;1-0&quot;</td><td>&quot;C11&quot;</td><td>&quot;&quot;</td><td>&quot;&quot;</td><td>&quot;e4 e6 d4 d5 Nc3 Nf6 Bg5 dxe4 N…</td><td>null</td><td>&quot;Endgame&quot;</td><td>0.507692</td><td>&quot;Smooth&quot;</td><td>[0.31, 0.42, … null]</td><td>[0.5125, 0.523, … 1.0]</td></tr><tr><td>&quot;Wch U10&quot;</td><td>&quot;Cannes&quot;</td><td>&quot;1997.??.??&quot;</td><td>&quot;Nakamura, Hikaru&quot;</td><td>&quot;Eryomenko, Volodymyr&quot;</td><td>&quot;1-0&quot;</td><td>&quot;B01&quot;</td><td>&quot;&quot;</td><td>&quot;&quot;</td><td>&quot;e4 d5 exd5 Qxd5 Nc3 Qa5 d4 Nf6…</td><td>null</td><td>&quot;Middlegame&quot;</td><td>0.520548</td><td>&quot;Sudden&quot;</td><td>[0.46, 0.95, … null]</td><td>[0.5285, 0.7375, … 1.0]</td></tr><tr><td>&quot;Wch U10&quot;</td><td>&quot;Cannes&quot;</td><td>&quot;1997.??.??&quot;</td><td>&quot;Amin, Bassem&quot;</td><td>&quot;Nakamura, Hikaru&quot;</td><td>&quot;1-0&quot;</td><td>&quot;A04&quot;</td><td>&quot;&quot;</td><td>&quot;&quot;</td><td>&quot;e4 c5 Nf3 e6 d3 d6 g3 Nc6 Bg2 …</td><td>&quot;2&quot;</td><td>&quot;Endgame&quot;</td><td>0.481481</td><td>&quot;Sudden&quot;</td><td>[0.47, 0.4, … null]</td><td>[0.53, 0.5205, … 1.0]</td></tr><tr><td>&quot;Wch U10&quot;</td><td>&quot;Cannes&quot;</td><td>&quot;1997.??.??&quot;</td><td>&quot;Lepan, Marvin&quot;</td><td>&quot;Nakamura, Hikaru&quot;</td><td>&quot;0-1&quot;</td><td>&quot;E60&quot;</td><td>&quot;&quot;</td><td>&quot;&quot;</td><td>&quot;d4 Nf6 c4 g6 b3 Bg7 Bb2 O-O g3…</td><td>&quot;No forced mate detected&quot;</td><td>&quot;Endgame&quot;</td><td>0.428571</td><td>&quot;Sudden&quot;</td><td>[0.3, 0.42, … -7.24]</td><td>[0.5115, 0.523, … 0.0]</td></tr><tr><td>&hellip;</td><td>&hellip;</td><td>&hellip;</td><td>&hellip;</td><td>&hellip;</td><td>&hellip;</td><td>&hellip;</td><td>&hellip;</td><td>&hellip;</td><td>&hellip;</td><td>&hellip;</td><td>&hellip;</td><td>&hellip;</td><td>&hellip;</td><td>&hellip;</td><td>&hellip;</td></tr><tr><td>&quot;Titled Tue 26th Dec Late&quot;</td><td>&quot;chess.com INT&quot;</td><td>&quot;2023.12.26&quot;</td><td>&quot;Nakamura,Hi&quot;</td><td>&quot;Svane,Frederik&quot;</td><td>&quot;1-0&quot;</td><td>&quot;C24&quot;</td><td>&quot;2788&quot;</td><td>&quot;2639&quot;</td><td>&quot;e4 e5 Bc4 Nf6 d3 Nc6 Nc3 Na5 Q…</td><td>&quot;No forced mate detected&quot;</td><td>&quot;Endgame&quot;</td><td>0.448598</td><td>&quot;Sudden&quot;</td><td>[0.51, 0.43, … 5.26]</td><td>[0.537, 0.5245, … 1.0]</td></tr><tr><td>&quot;Titled Tue 26th Dec Early&quot;</td><td>&quot;chess.com INT&quot;</td><td>&quot;2023.12.26&quot;</td><td>&quot;Szpar,Milosz&quot;</td><td>&quot;Nakamura,Hi&quot;</td><td>&quot;0-1&quot;</td><td>&quot;B00&quot;</td><td>&quot;2485&quot;</td><td>&quot;2788&quot;</td><td>&quot;e4 a6 d4 c6 Bd3 d5 e5 c5 dxc5 …</td><td>&quot;No forced mate detected&quot;</td><td>&quot;Middlegame&quot;</td><td>0.375</td><td>&quot;Sudden&quot;</td><td>[0.37, 0.59, … -7.69]</td><td>[0.5175, 0.555, … 0.0]</td></tr><tr><td>&quot;Titled Tue 26th Dec Late&quot;</td><td>&quot;chess.com INT&quot;</td><td>&quot;2023.12.26&quot;</td><td>&quot;Shankland,S&quot;</td><td>&quot;Nakamura,Hi&quot;</td><td>&quot;1-0&quot;</td><td>&quot;A40&quot;</td><td>&quot;2674&quot;</td><td>&quot;2788&quot;</td><td>&quot;d4 g6 e4 a6 c4 Bg7 Nc3 d6 Be3 …</td><td>&quot;No forced mate detected&quot;</td><td>&quot;Endgame&quot;</td><td>0.528571</td><td>&quot;Smooth&quot;</td><td>[0.27, 1.06, … 9.61]</td><td>[0.51, 0.812, … 1.0]</td></tr><tr><td>&quot;Titled Tue 26th Dec Early&quot;</td><td>&quot;chess.com INT&quot;</td><td>&quot;2023.12.26&quot;</td><td>&quot;Lenderman,A&quot;</td><td>&quot;Nakamura,Hi&quot;</td><td>&quot;0-1&quot;</td><td>&quot;A40&quot;</td><td>&quot;2521&quot;</td><td>&quot;2788&quot;</td><td>&quot;d4 a6 Nf3 d6 g3 b5 Bg2 Bb7 O-O…</td><td>null</td><td>&quot;Endgame&quot;</td><td>0.585714</td><td>&quot;Smooth&quot;</td><td>[0.22, 0.82, … null]</td><td>[0.5075, 0.653, … 0.0]</td></tr><tr><td>&quot;?&quot;</td><td>&quot;?&quot;</td><td>&quot;????.??.??&quot;</td><td>&quot;?&quot;</td><td>&quot;?&quot;</td><td>&quot;1-0&quot;</td><td>null</td><td>null</td><td>null</td><td>&quot;Nf3 Nf6 e3 b6 b3 Bb7 Bb2 e6 g3…</td><td>&quot;No forced mate detected&quot;</td><td>&quot;Middlegame&quot;</td><td>0.428571</td><td>&quot;Sudden&quot;</td><td>[0.38, 0.3, … 7.59]</td><td>[0.518, 0.5115, … 1.0]</td></tr></tbody></table></div>"
      ],
      "text/plain": [
       "shape: (7_307, 16)\n",
       "┌──────────────┬──────────────┬────────────┬──────────────┬───┬──────────────┬────────────┬──────────────┬─────────────┐\n",
       "│ Event        ┆ Site         ┆ Date       ┆ White        ┆ … ┆ Best Move    ┆ Game Class ┆ Evaluations  ┆ WDL         │\n",
       "│ ---          ┆ ---          ┆ ---        ┆ ---          ┆   ┆ Rate         ┆ ---        ┆ ---          ┆ ---         │\n",
       "│ str          ┆ str          ┆ str        ┆ str          ┆   ┆ ---          ┆ str        ┆ list[f64]    ┆ list[f64]   │\n",
       "│              ┆              ┆            ┆              ┆   ┆ f64          ┆            ┆              ┆             │\n",
       "╞══════════════╪══════════════╪════════════╪══════════════╪═══╪══════════════╪════════════╪══════════════╪═════════════╡\n",
       "│ Wch U10      ┆ Cannes       ┆ 1997.??.?? ┆ Bellaiche,   ┆ … ┆ 0.466667     ┆ Balanced   ┆ [0.33, 0.36, ┆ [0.514,     │\n",
       "│              ┆              ┆            ┆ Antony       ┆   ┆              ┆            ┆ … null]      ┆ 0.5165, …   │\n",
       "│              ┆              ┆            ┆              ┆   ┆              ┆            ┆              ┆ 1.0]        │\n",
       "│ Wch U10      ┆ Cannes       ┆ 1997.??.?? ┆ Nakamura,    ┆ … ┆ 0.507692     ┆ Smooth     ┆ [0.31, 0.42, ┆ [0.5125,    │\n",
       "│              ┆              ┆            ┆ Hikaru       ┆   ┆              ┆            ┆ … null]      ┆ 0.523, …    │\n",
       "│              ┆              ┆            ┆              ┆   ┆              ┆            ┆              ┆ 1.0]        │\n",
       "│ Wch U10      ┆ Cannes       ┆ 1997.??.?? ┆ Nakamura,    ┆ … ┆ 0.520548     ┆ Sudden     ┆ [0.46, 0.95, ┆ [0.5285,    │\n",
       "│              ┆              ┆            ┆ Hikaru       ┆   ┆              ┆            ┆ … null]      ┆ 0.7375, …   │\n",
       "│              ┆              ┆            ┆              ┆   ┆              ┆            ┆              ┆ 1.0]        │\n",
       "│ Wch U10      ┆ Cannes       ┆ 1997.??.?? ┆ Amin, Bassem ┆ … ┆ 0.481481     ┆ Sudden     ┆ [0.47, 0.4,  ┆ [0.53,      │\n",
       "│              ┆              ┆            ┆              ┆   ┆              ┆            ┆ … null]      ┆ 0.5205, …   │\n",
       "│              ┆              ┆            ┆              ┆   ┆              ┆            ┆              ┆ 1.0]        │\n",
       "│ Wch U10      ┆ Cannes       ┆ 1997.??.?? ┆ Lepan,       ┆ … ┆ 0.428571     ┆ Sudden     ┆ [0.3, 0.42,  ┆ [0.5115,    │\n",
       "│              ┆              ┆            ┆ Marvin       ┆   ┆              ┆            ┆ … -7.24]     ┆ 0.523, …    │\n",
       "│              ┆              ┆            ┆              ┆   ┆              ┆            ┆              ┆ 0.0]        │\n",
       "│ …            ┆ …            ┆ …          ┆ …            ┆ … ┆ …            ┆ …          ┆ …            ┆ …           │\n",
       "│ Titled Tue   ┆ chess.com    ┆ 2023.12.26 ┆ Nakamura,Hi  ┆ … ┆ 0.448598     ┆ Sudden     ┆ [0.51, 0.43, ┆ [0.537,     │\n",
       "│ 26th Dec     ┆ INT          ┆            ┆              ┆   ┆              ┆            ┆ … 5.26]      ┆ 0.5245, …   │\n",
       "│ Late         ┆              ┆            ┆              ┆   ┆              ┆            ┆              ┆ 1.0]        │\n",
       "│ Titled Tue   ┆ chess.com    ┆ 2023.12.26 ┆ Szpar,Milosz ┆ … ┆ 0.375        ┆ Sudden     ┆ [0.37, 0.59, ┆ [0.5175,    │\n",
       "│ 26th Dec     ┆ INT          ┆            ┆              ┆   ┆              ┆            ┆ … -7.69]     ┆ 0.555, …    │\n",
       "│ Early        ┆              ┆            ┆              ┆   ┆              ┆            ┆              ┆ 0.0]        │\n",
       "│ Titled Tue   ┆ chess.com    ┆ 2023.12.26 ┆ Shankland,S  ┆ … ┆ 0.528571     ┆ Smooth     ┆ [0.27, 1.06, ┆ [0.51,      │\n",
       "│ 26th Dec     ┆ INT          ┆            ┆              ┆   ┆              ┆            ┆ … 9.61]      ┆ 0.812, …    │\n",
       "│ Late         ┆              ┆            ┆              ┆   ┆              ┆            ┆              ┆ 1.0]        │\n",
       "│ Titled Tue   ┆ chess.com    ┆ 2023.12.26 ┆ Lenderman,A  ┆ … ┆ 0.585714     ┆ Smooth     ┆ [0.22, 0.82, ┆ [0.5075,    │\n",
       "│ 26th Dec     ┆ INT          ┆            ┆              ┆   ┆              ┆            ┆ … null]      ┆ 0.653, …    │\n",
       "│ Early        ┆              ┆            ┆              ┆   ┆              ┆            ┆              ┆ 0.0]        │\n",
       "│ ?            ┆ ?            ┆ ????.??.?? ┆ ?            ┆ … ┆ 0.428571     ┆ Sudden     ┆ [0.38, 0.3,  ┆ [0.518,     │\n",
       "│              ┆              ┆            ┆              ┆   ┆              ┆            ┆ … 7.59]      ┆ 0.5115, …   │\n",
       "│              ┆              ┆            ┆              ┆   ┆              ┆            ┆              ┆ 1.0]        │\n",
       "└──────────────┴──────────────┴────────────┴──────────────┴───┴──────────────┴────────────┴──────────────┴─────────────┘"
      ]
     },
     "execution_count": 6,
     "metadata": {},
     "output_type": "execute_result"
    }
   ],
   "source": [
    "nakamura=pl.read_parquet(\"Nakamura.parquet\")\n",
    "nakamura"
   ]
  },
  {
   "cell_type": "code",
   "execution_count": null,
   "id": "177ae061",
   "metadata": {},
   "outputs": [],
   "source": []
  }
 ],
 "metadata": {
  "kernelspec": {
   "display_name": "Python 3 (ipykernel)",
   "language": "python",
   "name": "python3"
  },
  "language_info": {
   "codemirror_mode": {
    "name": "ipython",
    "version": 3
   },
   "file_extension": ".py",
   "mimetype": "text/x-python",
   "name": "python",
   "nbconvert_exporter": "python",
   "pygments_lexer": "ipython3",
   "version": "3.9.18"
  }
 },
 "nbformat": 4,
 "nbformat_minor": 5
}
