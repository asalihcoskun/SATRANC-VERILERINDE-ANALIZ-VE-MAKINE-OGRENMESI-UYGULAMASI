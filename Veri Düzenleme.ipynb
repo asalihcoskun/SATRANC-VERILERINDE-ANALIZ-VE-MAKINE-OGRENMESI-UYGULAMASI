{
 "cells": [
  {
   "cell_type": "markdown",
   "id": "4dacfc03-3766-442e-becd-e2994614e725",
   "metadata": {},
   "source": [
    "# VERİ DÜZENLEME"
   ]
  },
  {
   "cell_type": "code",
   "execution_count": 68,
   "id": "995e50a7",
   "metadata": {},
   "outputs": [],
   "source": [
    "import pandas as pd\n",
    "import polars as pl\n",
    "import chess.pgn\n",
    "import chess"
   ]
  },
  {
   "cell_type": "code",
   "execution_count": 70,
   "id": "94b8f056",
   "metadata": {},
   "outputs": [],
   "source": [
    "nakamura=pl.read_parquet(\"Nakamura.parquet\")"
   ]
  },
  {
   "cell_type": "code",
   "execution_count": 69,
   "id": "0ee437b8",
   "metadata": {},
   "outputs": [],
   "source": [
    "carlsen=pl.read_parquet(\"Carlsen.parquet\")"
   ]
  },
  {
   "cell_type": "code",
   "execution_count": 71,
   "id": "635dcd40",
   "metadata": {},
   "outputs": [],
   "source": [
    "caruana=pl.read_parquet(\"Caruana.parquet\")"
   ]
  },
  {
   "cell_type": "markdown",
   "id": "f15c3fba",
   "metadata": {},
   "source": [
    "## Hamle Sayısı Değişkeni"
   ]
  },
  {
   "cell_type": "code",
   "execution_count": 72,
   "id": "c7672b3e",
   "metadata": {},
   "outputs": [],
   "source": [
    "def calculate_number_of_moves(evaluations):\n",
    "    length = len(evaluations)\n",
    "    if length % 2 == 0:\n",
    "        return length // 2\n",
    "    else:\n",
    "        return (length + 1) // 2"
   ]
  },
  {
   "cell_type": "code",
   "execution_count": 73,
   "id": "5920c9e9",
   "metadata": {},
   "outputs": [],
   "source": [
    "carlsen = carlsen.with_columns(\n",
    "    pl.col(\"Evaluations\").map_elements(calculate_number_of_moves, return_dtype=pl.Int64).alias(\"Number of Moves\")\n",
    ")"
   ]
  },
  {
   "cell_type": "code",
   "execution_count": 74,
   "id": "e7a47bc0",
   "metadata": {},
   "outputs": [],
   "source": [
    "nakamura = nakamura.with_columns(\n",
    "    pl.col(\"Evaluations\").map_elements(calculate_number_of_moves, return_dtype=pl.Int64).alias(\"Number of Moves\")\n",
    ")"
   ]
  },
  {
   "cell_type": "code",
   "execution_count": 75,
   "id": "5b230563",
   "metadata": {},
   "outputs": [],
   "source": [
    "caruana = caruana.with_columns(\n",
    "    pl.col(\"Evaluations\").map_elements(calculate_number_of_moves, return_dtype=pl.Int64).alias(\"Number of Moves\")\n",
    ")"
   ]
  },
  {
   "cell_type": "markdown",
   "id": "0ffeb701-2462-477e-a201-34c2fcda8ea2",
   "metadata": {},
   "source": [
    "## Hamle Sayısına Göre Sınıflandırma"
   ]
  },
  {
   "cell_type": "code",
   "execution_count": 76,
   "id": "8bc444e3",
   "metadata": {},
   "outputs": [],
   "source": [
    "def determine_game_length(num_moves):\n",
    "    if num_moves < 20:\n",
    "        return \"miniature\"\n",
    "    elif 20 <= num_moves < 40:\n",
    "        return \"medium-length\"\n",
    "    elif 40 <= num_moves < 60:\n",
    "        return \"long\"\n",
    "    else:\n",
    "        return \"very long\""
   ]
  },
  {
   "cell_type": "code",
   "execution_count": 77,
   "id": "caa54d14",
   "metadata": {},
   "outputs": [],
   "source": [
    "carlsen = carlsen.with_columns(\n",
    "    pl.col(\"Number of Moves\").map_elements(determine_game_length, return_dtype=pl.Utf8).alias(\"Game Length\")\n",
    ")"
   ]
  },
  {
   "cell_type": "code",
   "execution_count": 78,
   "id": "24ee3395",
   "metadata": {},
   "outputs": [],
   "source": [
    "nakamura = nakamura.with_columns(\n",
    "    pl.col(\"Number of Moves\").map_elements(determine_game_length, return_dtype=pl.Utf8).alias(\"Game Length\")\n",
    ")"
   ]
  },
  {
   "cell_type": "code",
   "execution_count": 79,
   "id": "5c3ed1a4",
   "metadata": {},
   "outputs": [],
   "source": [
    "caruana = caruana.with_columns(\n",
    "    pl.col(\"Number of Moves\").map_elements(determine_game_length, return_dtype=pl.Utf8).alias(\"Game Length\")\n",
    ")"
   ]
  },
  {
   "cell_type": "markdown",
   "id": "cd217b95-1b08-41e5-8534-38b6ba27a33c",
   "metadata": {},
   "source": [
    "## En İyi Hamle Oranının Sınıflandırılması"
   ]
  },
  {
   "cell_type": "code",
   "execution_count": 80,
   "id": "48365331",
   "metadata": {},
   "outputs": [],
   "source": [
    "def classify_best_move_rate(rate):\n",
    "    rate_percentage = rate * 100\n",
    "    if rate_percentage < 30:\n",
    "        return \"kötü\"\n",
    "    elif 30 <= rate_percentage < 60:\n",
    "        return \"orta\"\n",
    "    elif 60 <= rate_percentage < 75:\n",
    "        return \"iyi\"\n",
    "    else:\n",
    "        return \"çok iyi\""
   ]
  },
  {
   "cell_type": "code",
   "execution_count": 81,
   "id": "f580be3d",
   "metadata": {},
   "outputs": [],
   "source": [
    "carlsen = carlsen.with_columns(\n",
    "    pl.col(\"Best Move Rate\").map_elements(classify_best_move_rate, return_dtype=pl.Utf8).alias(\"Best Move Rate Classify\")\n",
    ")"
   ]
  },
  {
   "cell_type": "code",
   "execution_count": 82,
   "id": "b7318a5a",
   "metadata": {},
   "outputs": [],
   "source": [
    "nakamura = nakamura.with_columns(\n",
    "    pl.col(\"Best Move Rate\").map_elements(classify_best_move_rate, return_dtype=pl.Utf8).alias(\"Best Move Rate Classify\")\n",
    ")"
   ]
  },
  {
   "cell_type": "code",
   "execution_count": 83,
   "id": "ec8c6389",
   "metadata": {},
   "outputs": [],
   "source": [
    "caruana = caruana.with_columns(\n",
    "    pl.col(\"Best Move Rate\").map_elements(classify_best_move_rate, return_dtype=pl.Utf8).alias(\"Best Move Rate Classify\")\n",
    ")"
   ]
  },
  {
   "cell_type": "code",
   "execution_count": 84,
   "id": "4f45e840",
   "metadata": {},
   "outputs": [
    {
     "data": {
      "text/html": [
       "<div><style>\n",
       ".dataframe > thead > tr,\n",
       ".dataframe > tbody > tr {\n",
       "  text-align: right;\n",
       "  white-space: pre-wrap;\n",
       "}\n",
       "</style>\n",
       "<small>shape: (4, 2)</small><table border=\"1\" class=\"dataframe\"><thead><tr><th>Best Move Rate Classify</th><th>count</th></tr><tr><td>str</td><td>u32</td></tr></thead><tbody><tr><td>&quot;iyi&quot;</td><td>1607</td></tr><tr><td>&quot;kötü&quot;</td><td>14</td></tr><tr><td>&quot;çok iyi&quot;</td><td>53</td></tr><tr><td>&quot;orta&quot;</td><td>3988</td></tr></tbody></table></div>"
      ],
      "text/plain": [
       "shape: (4, 2)\n",
       "┌─────────────────────────┬───────┐\n",
       "│ Best Move Rate Classify ┆ count │\n",
       "│ ---                     ┆ ---   │\n",
       "│ str                     ┆ u32   │\n",
       "╞═════════════════════════╪═══════╡\n",
       "│ iyi                     ┆ 1607  │\n",
       "│ kötü                    ┆ 14    │\n",
       "│ çok iyi                 ┆ 53    │\n",
       "│ orta                    ┆ 3988  │\n",
       "└─────────────────────────┴───────┘"
      ]
     },
     "execution_count": 84,
     "metadata": {},
     "output_type": "execute_result"
    }
   ],
   "source": [
    "carlsen[\"Best Move Rate Classify\"].value_counts()"
   ]
  },
  {
   "cell_type": "code",
   "execution_count": 85,
   "id": "b9a44a77",
   "metadata": {},
   "outputs": [
    {
     "data": {
      "text/html": [
       "<div><style>\n",
       ".dataframe > thead > tr,\n",
       ".dataframe > tbody > tr {\n",
       "  text-align: right;\n",
       "  white-space: pre-wrap;\n",
       "}\n",
       "</style>\n",
       "<small>shape: (4, 2)</small><table border=\"1\" class=\"dataframe\"><thead><tr><th>Best Move Rate Classify</th><th>count</th></tr><tr><td>str</td><td>u32</td></tr></thead><tbody><tr><td>&quot;çok iyi&quot;</td><td>36</td></tr><tr><td>&quot;iyi&quot;</td><td>1229</td></tr><tr><td>&quot;orta&quot;</td><td>5997</td></tr><tr><td>&quot;kötü&quot;</td><td>45</td></tr></tbody></table></div>"
      ],
      "text/plain": [
       "shape: (4, 2)\n",
       "┌─────────────────────────┬───────┐\n",
       "│ Best Move Rate Classify ┆ count │\n",
       "│ ---                     ┆ ---   │\n",
       "│ str                     ┆ u32   │\n",
       "╞═════════════════════════╪═══════╡\n",
       "│ çok iyi                 ┆ 36    │\n",
       "│ iyi                     ┆ 1229  │\n",
       "│ orta                    ┆ 5997  │\n",
       "│ kötü                    ┆ 45    │\n",
       "└─────────────────────────┴───────┘"
      ]
     },
     "execution_count": 85,
     "metadata": {},
     "output_type": "execute_result"
    }
   ],
   "source": [
    "nakamura[\"Best Move Rate Classify\"].value_counts()"
   ]
  },
  {
   "cell_type": "code",
   "execution_count": 86,
   "id": "8478da8f",
   "metadata": {},
   "outputs": [
    {
     "data": {
      "text/html": [
       "<div><style>\n",
       ".dataframe > thead > tr,\n",
       ".dataframe > tbody > tr {\n",
       "  text-align: right;\n",
       "  white-space: pre-wrap;\n",
       "}\n",
       "</style>\n",
       "<small>shape: (4, 2)</small><table border=\"1\" class=\"dataframe\"><thead><tr><th>Best Move Rate Classify</th><th>count</th></tr><tr><td>str</td><td>u32</td></tr></thead><tbody><tr><td>&quot;orta&quot;</td><td>3450</td></tr><tr><td>&quot;çok iyi&quot;</td><td>33</td></tr><tr><td>&quot;kötü&quot;</td><td>12</td></tr><tr><td>&quot;iyi&quot;</td><td>1093</td></tr></tbody></table></div>"
      ],
      "text/plain": [
       "shape: (4, 2)\n",
       "┌─────────────────────────┬───────┐\n",
       "│ Best Move Rate Classify ┆ count │\n",
       "│ ---                     ┆ ---   │\n",
       "│ str                     ┆ u32   │\n",
       "╞═════════════════════════╪═══════╡\n",
       "│ orta                    ┆ 3450  │\n",
       "│ çok iyi                 ┆ 33    │\n",
       "│ kötü                    ┆ 12    │\n",
       "│ iyi                     ┆ 1093  │\n",
       "└─────────────────────────┴───────┘"
      ]
     },
     "execution_count": 86,
     "metadata": {},
     "output_type": "execute_result"
    }
   ],
   "source": [
    "caruana[\"Best Move Rate Classify\"].value_counts()"
   ]
  },
  {
   "cell_type": "markdown",
   "id": "209f53dd",
   "metadata": {},
   "source": [
    "## Oyun Bitme Nedeninin Sınıflandırılması"
   ]
  },
  {
   "cell_type": "code",
   "execution_count": 22,
   "id": "0beea777",
   "metadata": {},
   "outputs": [],
   "source": [
    "carlsen = carlsen.with_columns(\n",
    "    pl.col('Mate').fill_null('0')\n",
    ")\n",
    "\n",
    "nakamura = carlsen.with_columns(\n",
    "    pl.col('Mate').fill_null('0')\n",
    ")\n",
    "\n",
    "caruana = carlsen.with_columns(\n",
    "    pl.col('Mate').fill_null('0')\n",
    ")"
   ]
  },
  {
   "cell_type": "code",
   "execution_count": 87,
   "id": "575d2a9d",
   "metadata": {},
   "outputs": [],
   "source": [
    "def determine_game_end_reason(mate_value):\n",
    "    if mate_value == \"No forced mate detected\":\n",
    "        return \"Resign\"\n",
    "    return \"Mate\""
   ]
  },
  {
   "cell_type": "code",
   "execution_count": 88,
   "id": "a20ea03f",
   "metadata": {},
   "outputs": [],
   "source": [
    "carlsen = carlsen.with_columns(\n",
    "    pl.col(\"Mate\").map_elements(determine_game_end_reason, return_dtype=pl.Utf8).alias(\"Game Ending Reason\")\n",
    ")"
   ]
  },
  {
   "cell_type": "code",
   "execution_count": 89,
   "id": "c752ad44",
   "metadata": {},
   "outputs": [],
   "source": [
    "nakamura = nakamura.with_columns(\n",
    "    pl.col(\"Mate\").map_elements(determine_game_end_reason, return_dtype=pl.Utf8).alias(\"Game Ending Reason\")\n",
    ")"
   ]
  },
  {
   "cell_type": "code",
   "execution_count": 90,
   "id": "f1b01c57",
   "metadata": {},
   "outputs": [],
   "source": [
    "caruana = caruana.with_columns(\n",
    "    pl.col(\"Mate\").map_elements(determine_game_end_reason, return_dtype=pl.Utf8).alias(\"Game Ending Reason\")\n",
    ")"
   ]
  },
  {
   "cell_type": "code",
   "execution_count": 91,
   "id": "bde851b1",
   "metadata": {},
   "outputs": [
    {
     "data": {
      "text/html": [
       "<div><style>\n",
       ".dataframe > thead > tr,\n",
       ".dataframe > tbody > tr {\n",
       "  text-align: right;\n",
       "  white-space: pre-wrap;\n",
       "}\n",
       "</style>\n",
       "<small>shape: (2, 2)</small><table border=\"1\" class=\"dataframe\"><thead><tr><th>Game Ending Reason</th><th>count</th></tr><tr><td>str</td><td>u32</td></tr></thead><tbody><tr><td>&quot;Mate&quot;</td><td>813</td></tr><tr><td>&quot;Resign&quot;</td><td>4849</td></tr></tbody></table></div>"
      ],
      "text/plain": [
       "shape: (2, 2)\n",
       "┌────────────────────┬───────┐\n",
       "│ Game Ending Reason ┆ count │\n",
       "│ ---                ┆ ---   │\n",
       "│ str                ┆ u32   │\n",
       "╞════════════════════╪═══════╡\n",
       "│ Mate               ┆ 813   │\n",
       "│ Resign             ┆ 4849  │\n",
       "└────────────────────┴───────┘"
      ]
     },
     "execution_count": 91,
     "metadata": {},
     "output_type": "execute_result"
    }
   ],
   "source": [
    "carlsen[\"Game Ending Reason\"].value_counts()"
   ]
  },
  {
   "cell_type": "code",
   "execution_count": 97,
   "id": "ea19b4d6",
   "metadata": {},
   "outputs": [],
   "source": [
    "carlsen.write_parquet(\"Carlsen V2.parquet\")"
   ]
  },
  {
   "cell_type": "code",
   "execution_count": 98,
   "id": "bd124c91",
   "metadata": {},
   "outputs": [],
   "source": [
    "nakamura.write_parquet(\"Nakamura V2.parquet\")"
   ]
  },
  {
   "cell_type": "code",
   "execution_count": 99,
   "id": "24a55f9e",
   "metadata": {},
   "outputs": [],
   "source": [
    "caruana.write_parquet(\"Caruana V2.parquet\")"
   ]
  },
  {
   "cell_type": "code",
   "execution_count": 35,
   "id": "9cdf9945",
   "metadata": {},
   "outputs": [
    {
     "data": {
      "text/html": [
       "<div><style>\n",
       ".dataframe > thead > tr,\n",
       ".dataframe > tbody > tr {\n",
       "  text-align: right;\n",
       "  white-space: pre-wrap;\n",
       "}\n",
       "</style>\n",
       "<small>shape: (4, 2)</small><table border=\"1\" class=\"dataframe\"><thead><tr><th>Game Class</th><th>count</th></tr><tr><td>str</td><td>u32</td></tr></thead><tbody><tr><td>&quot;Smooth&quot;</td><td>1004</td></tr><tr><td>&quot;Sharp&quot;</td><td>395</td></tr><tr><td>&quot;Balanced&quot;</td><td>969</td></tr><tr><td>&quot;Sudden&quot;</td><td>3294</td></tr></tbody></table></div>"
      ],
      "text/plain": [
       "shape: (4, 2)\n",
       "┌────────────┬───────┐\n",
       "│ Game Class ┆ count │\n",
       "│ ---        ┆ ---   │\n",
       "│ str        ┆ u32   │\n",
       "╞════════════╪═══════╡\n",
       "│ Smooth     ┆ 1004  │\n",
       "│ Sharp      ┆ 395   │\n",
       "│ Balanced   ┆ 969   │\n",
       "│ Sudden     ┆ 3294  │\n",
       "└────────────┴───────┘"
      ]
     },
     "execution_count": 35,
     "metadata": {},
     "output_type": "execute_result"
    }
   ],
   "source": [
    "carlsen[\"Game Class\"].value_counts()"
   ]
  },
  {
   "cell_type": "code",
   "execution_count": null,
   "id": "74b4bf58",
   "metadata": {},
   "outputs": [],
   "source": []
  }
 ],
 "metadata": {
  "kernelspec": {
   "display_name": "Python 3 (ipykernel)",
   "language": "python",
   "name": "python3"
  },
  "language_info": {
   "codemirror_mode": {
    "name": "ipython",
    "version": 3
   },
   "file_extension": ".py",
   "mimetype": "text/x-python",
   "name": "python",
   "nbconvert_exporter": "python",
   "pygments_lexer": "ipython3",
   "version": "3.9.18"
  }
 },
 "nbformat": 4,
 "nbformat_minor": 5
}
